{
 "cells": [
  {
   "cell_type": "code",
   "execution_count": 16,
   "metadata": {},
   "outputs": [
    {
     "name": "stdout",
     "output_type": "stream",
     "text": [
      "Conexao bem sucedida\n"
     ]
    },
    {
     "name": "stderr",
     "output_type": "stream",
     "text": [
      "<>:9: SyntaxWarning: invalid escape sequence '\\S'\n",
      "<>:9: SyntaxWarning: invalid escape sequence '\\S'\n",
      "C:\\Users\\ANTONIO NETO\\AppData\\Local\\Temp\\ipykernel_58272\\3343617593.py:9: SyntaxWarning: invalid escape sequence '\\S'\n",
      "  \"Server=DESKTOP-2K9QLKU\\SQLSERVER;\"\n"
     ]
    }
   ],
   "source": [
    "import pyodbc\n",
    "import pandas as pd\n",
    "import seaborn as sns\n",
    "import matplotlib.pyplot as plt\n",
    "import ipywidgets as widgets\n",
    "from ipywidgets import interact\n",
    "dados_conexao = (\n",
    "    \"Driver={SQL Server};\"\n",
    "    \"Server=DESKTOP-2K9QLKU\\SQLSERVER;\"\n",
    "    \"Database=AdventureWorksDW2022;\"\n",
    ")\n",
    "conexao = pyodbc.connect(dados_conexao)\n",
    "print(\"Conexao bem sucedida\")"
   ]
  },
  {
   "cell_type": "code",
   "execution_count": 17,
   "metadata": {},
   "outputs": [
    {
     "name": "stderr",
     "output_type": "stream",
     "text": [
      "C:\\Users\\ANTONIO NETO\\AppData\\Local\\Temp\\ipykernel_58272\\1724192478.py:32: UserWarning: pandas only supports SQLAlchemy connectable (engine/connection) or database string URI or sqlite3 DBAPI2 connection. Other DBAPI2 objects are not tested. Please consider using SQLAlchemy.\n",
      "  dados = pd.read_sql(codigo_sql, conexao)\n"
     ]
    }
   ],
   "source": [
    "codigo_sql = \"\"\"\n",
    "SELECT \n",
    "    dst.SalesTerritoryRegion AS Regiao,\n",
    "    CONCAT(dsd.CalendarYear, '-', FORMAT(dsd.MonthNumberOfYear, '00')) AS AnoMes, \n",
    "    dpc.EnglishProductCategoryName AS CategoriaProduto,  \n",
    "    SUM(fis.OrderQuantity) AS QuantidadeVendida,  \n",
    "    ROUND(SUM(fis.SalesAmount), 2) AS TotalVendas\n",
    "FROM \n",
    "    dbo.FactInternetSales fis\n",
    "JOIN \n",
    "    dbo.DimSalesTerritory dst ON fis.SalesTerritoryKey = dst.SalesTerritoryKey\n",
    "JOIN \n",
    "    dbo.DimDate dsd ON fis.OrderDateKey = dsd.DateKey\n",
    "JOIN \n",
    "    dbo.DimProduct dp ON fis.ProductKey = dp.ProductKey\n",
    "JOIN \n",
    "    dbo.DimProductSubcategory dps ON dp.ProductSubcategoryKey = dps.ProductSubcategoryKey\n",
    "JOIN \n",
    "    dbo.DimProductCategory dpc ON dps.ProductCategoryKey = dpc.ProductCategoryKey\n",
    "GROUP BY \n",
    "    dst.SalesTerritoryRegion,\n",
    "    dsd.CalendarYear,\n",
    "    dsd.MonthNumberOfYear,\n",
    "    dpc.EnglishProductCategoryName\n",
    "ORDER BY \n",
    "    dst.SalesTerritoryRegion,\n",
    "    dsd.CalendarYear, \n",
    "    dsd.MonthNumberOfYear, \n",
    "    dpc.EnglishProductCategoryName;\n",
    "\"\"\"\n",
    "\n",
    "dados = pd.read_sql(codigo_sql, conexao)\n",
    "conexao.close()"
   ]
  },
  {
   "cell_type": "code",
   "execution_count": 18,
   "metadata": {},
   "outputs": [
    {
     "name": "stdout",
     "output_type": "stream",
     "text": [
      "      Regiao   AnoMes CategoriaProduto  QuantidadeVendida  TotalVendas\n",
      "0  Australia  2010-12            Bikes                  6     20909.78\n",
      "1  Australia  2011-01            Bikes                 62    207130.29\n",
      "2  Australia  2011-02            Bikes                 62    204151.12\n",
      "3  Australia  2011-03            Bikes                 53    177393.50\n",
      "4  Australia  2011-04            Bikes                 64    214593.39\n"
     ]
    }
   ],
   "source": [
    "print(dados.head())"
   ]
  },
  {
   "cell_type": "code",
   "execution_count": 19,
   "metadata": {},
   "outputs": [
    {
     "data": {
      "application/vnd.jupyter.widget-view+json": {
       "model_id": "255e21edc46d483d8604286e48f3f2e9",
       "version_major": 2,
       "version_minor": 0
      },
      "text/plain": [
       "interactive(children=(Dropdown(description='Categoria:', options=('Bikes', 'Accessories', 'Clothing'), value='…"
      ]
     },
     "metadata": {},
     "output_type": "display_data"
    },
    {
     "data": {
      "text/plain": [
       "<function __main__.plotar_mapa_de_calor(categoria_filtro)>"
      ]
     },
     "execution_count": 19,
     "metadata": {},
     "output_type": "execute_result"
    }
   ],
   "source": [
    "categorias_unicas = dados['CategoriaProduto'].unique()\n",
    "\n",
    "def plotar_mapa_de_calor(categoria_filtro):\n",
    " \n",
    "    dados_filtrados = dados[dados['CategoriaProduto'] == categoria_filtro]\n",
    "    if dados_filtrados.empty:\n",
    "        print(\"Não há dados suficientes para esta categoria.\")\n",
    "        return\n",
    "    dados_pivot = dados_filtrados.pivot_table(\n",
    "        index='Regiao',   \n",
    "        columns='AnoMes',   \n",
    "        values='TotalVendas',\n",
    "        aggfunc='sum',\n",
    "        fill_value=0\n",
    "    )\n",
    "    plt.figure(figsize=(14, 8))\n",
    "\n",
    "    sns.heatmap(\n",
    "        dados_pivot,\n",
    "        cmap='Blues',  \n",
    "        cbar_kws={'label': 'Total de Vendas'} \n",
    "    )\n",
    "    plt.title(f'Mapa de Calor das Vendas por Região e Mês - Categoria: {categoria_filtro}')\n",
    "    plt.xlabel('Ano-Mês')\n",
    "    plt.ylabel('Região')\n",
    "\n",
    "    plt.tight_layout()\n",
    "    plt.show()\n",
    "categoria_dropdown = widgets.Dropdown(\n",
    "    options=categorias_unicas,\n",
    "    value=categorias_unicas[0],\n",
    "    description='Categoria:',\n",
    ")\n",
    "interact(plotar_mapa_de_calor, categoria_filtro=categoria_dropdown)"
   ]
  }
 ],
 "metadata": {
  "kernelspec": {
   "display_name": "Python 3",
   "language": "python",
   "name": "python3"
  },
  "language_info": {
   "codemirror_mode": {
    "name": "ipython",
    "version": 3
   },
   "file_extension": ".py",
   "mimetype": "text/x-python",
   "name": "python",
   "nbconvert_exporter": "python",
   "pygments_lexer": "ipython3",
   "version": "3.12.5"
  }
 },
 "nbformat": 4,
 "nbformat_minor": 2
}
